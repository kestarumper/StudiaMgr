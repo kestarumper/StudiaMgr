{
 "cells": [
  {
   "cell_type": "markdown",
   "metadata": {},
   "source": [
    "# Ex 23"
   ]
  },
  {
   "cell_type": "code",
   "execution_count": 1,
   "metadata": {},
   "outputs": [],
   "source": [
    "import numpy as np"
   ]
  },
  {
   "cell_type": "markdown",
   "metadata": {},
   "source": [
    "Mamy grupę studentów wraz ze statystykami\n",
    "* $X_1$ - ilość godzin w których się uczył\n",
    "* $X_2$ - średnia ocena\n",
    "* $Y$ - otrzyma 5.0\n",
    "\n",
    "Następnie przeprowadzamy regresję liniową na zbiorze danych i otrzymujemy estymowane współczynniki:\n",
    "* $\\hat{\\beta}_0 = -6$\n",
    "* $\\hat{\\beta}_1 = 0.05$\n",
    "* $\\hat{\\beta}_2 = 1$"
   ]
  },
  {
   "cell_type": "markdown",
   "metadata": {},
   "source": [
    "Przypomnijmy wzór na prawdopodobieństwo że pewne zdarzenie nastąpi w **regresji logistycznej**\n",
    "\n",
    "$$ P = \\frac{1}{1+e^{-(\\beta_{0}+\\beta_{1}x_{1}+\\beta_{2}x_{2}+\\ldots)}} = \\frac{e^{(\\beta_{0}+\\beta_{1}x_{1}+\\beta_{2}x_{2}+\\ldots)}}{1+e^{(\\beta_{0}+\\beta_{1}x_{1}+\\beta_{2}x_{2}+\\ldots)}} $$"
   ]
  },
  {
   "cell_type": "markdown",
   "metadata": {},
   "source": [
    "## a)\n",
    "Estymujemy prawdopodobieństwo że:\n",
    "* student który studiował $X_1 = 40$ godzin\n",
    "* miał średnią ocenę $X_2 = 3.5$\n",
    "* dostanie ocenę $5.0$ $Y = True$\n",
    "\\begin{align*}\n",
    "    p(X) &= \\frac{e^{\\hat{\\beta_0} + \\hat{\\beta_1}X_1 + \\hat{\\beta_2}X_2}}{1 + e^{\\hat{\\beta_0} + \\hat{\\beta_1}X_1 + \\hat{\\beta_2}X_2}} \\\\\n",
    "    &= \\frac{e^{-6 + (0.05)(40) + (1)(3.5)}}{1 + e^{-6 + (0.05)(40) + (1)(3.5)}} \\\\\n",
    "    &= \\frac{e^{-0.5}}{1 + e^{-0.5}}\n",
    "\\end{align*}"
   ]
  },
  {
   "cell_type": "code",
   "execution_count": 2,
   "metadata": {},
   "outputs": [
    {
     "data": {
      "text/plain": [
       "0.378"
      ]
     },
     "execution_count": 2,
     "metadata": {},
     "output_type": "execute_result"
    }
   ],
   "source": [
    "round(np.exp(-0.5) / (1 + np.exp(-0.5)), 3)"
   ]
  },
  {
   "cell_type": "markdown",
   "metadata": {},
   "source": [
    "## b)\n",
    "Chcemy się dowiedzieć ile godzin student musiałby spędzić w a) żeby mieć $50\\%$ szans na zdobycie oceny $5.0$"
   ]
  },
  {
   "cell_type": "markdown",
   "metadata": {},
   "source": [
    "\\begin{align*}\n",
    "& p(X) = \\frac{e^{-6 + (0.05)(X_1) + (1)(3.5)}}{1 + e^{-6 + (0.05)(X_1) + (1)(3.5)}} \n",
    "= \\frac{e^{0.05 \\cdot X_1 - 2.5}}{1 + e^{0.05 \\cdot X_1 - 2.5}} = 0.5\\\\\n",
    "\\implies & e^{0.05 \\cdot X_1 - 2.5} = 0.5 + 0.5 \\cdot e^{0.05 \\cdot X_1 - 2.5} \\\\ \n",
    "\\implies & e^{0.05 \\cdot X_1 - 2.5} = 1 \\\\ \n",
    "\\implies & X_1 = \\frac{log(1) + 2.5}{0.05} = 50\n",
    "\\end{align*}\n",
    "\n",
    "A zatem musiałby studiować $X_1 = 50$ godzin by mieć $50\\%$ szans na zdobycie oceny $5.0$."
   ]
  },
  {
   "cell_type": "code",
   "execution_count": null,
   "metadata": {},
   "outputs": [],
   "source": []
  }
 ],
 "metadata": {
  "kernelspec": {
   "display_name": "Python 3",
   "language": "python",
   "name": "python3"
  },
  "language_info": {
   "codemirror_mode": {
    "name": "ipython",
    "version": 3
   },
   "file_extension": ".py",
   "mimetype": "text/x-python",
   "name": "python",
   "nbconvert_exporter": "python",
   "pygments_lexer": "ipython3",
   "version": "3.8.3"
  }
 },
 "nbformat": 4,
 "nbformat_minor": 4
}
