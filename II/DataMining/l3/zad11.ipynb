{
 "cells": [
  {
   "cell_type": "code",
   "execution_count": 1,
   "metadata": {},
   "outputs": [],
   "source": [
    "import pandas as pd\n",
    "import numpy as np\n",
    "import matplotlib.pyplot as plt\n",
    "import statsmodels.api as sm\n",
    "import seaborn as sns\n",
    "from patsy import dmatrices, dmatrix\n",
    "%matplotlib inline"
   ]
  },
  {
   "cell_type": "code",
   "execution_count": 2,
   "metadata": {},
   "outputs": [
    {
     "data": {
      "text/plain": [
       "Index(['mpg', 'cylinders', 'displacement', 'horsepower', 'weight',\n",
       "       'acceleration', 'year', 'origin', 'name'],\n",
       "      dtype='object')"
      ]
     },
     "execution_count": 2,
     "metadata": {},
     "output_type": "execute_result"
    }
   ],
   "source": [
    "# data from ISL book: https://trevorhastie.github.io/ISLR/data.html\n",
    "df = pd.read_csv(\"Auto.csv\")\n",
    "df.columns    "
   ]
  },
  {
   "cell_type": "code",
   "execution_count": 15,
   "metadata": {},
   "outputs": [
    {
     "data": {
      "text/plain": [
       "mpg             float64\n",
       "cylinders         int64\n",
       "displacement    float64\n",
       "horsepower       object\n",
       "weight            int64\n",
       "acceleration    float64\n",
       "year              int64\n",
       "origin            int64\n",
       "name             object\n",
       "dtype: object"
      ]
     },
     "execution_count": 15,
     "metadata": {},
     "output_type": "execute_result"
    }
   ],
   "source": [
    "# default data types\n",
    "df.dtypes"
   ]
  },
  {
   "cell_type": "code",
   "execution_count": 4,
   "metadata": {},
   "outputs": [
    {
     "data": {
      "text/html": [
       "<div>\n",
       "<style scoped>\n",
       "    .dataframe tbody tr th:only-of-type {\n",
       "        vertical-align: middle;\n",
       "    }\n",
       "\n",
       "    .dataframe tbody tr th {\n",
       "        vertical-align: top;\n",
       "    }\n",
       "\n",
       "    .dataframe thead th {\n",
       "        text-align: right;\n",
       "    }\n",
       "</style>\n",
       "<table border=\"1\" class=\"dataframe\">\n",
       "  <thead>\n",
       "    <tr style=\"text-align: right;\">\n",
       "      <th></th>\n",
       "      <th>mpg</th>\n",
       "      <th>cylinders</th>\n",
       "      <th>displacement</th>\n",
       "      <th>horsepower</th>\n",
       "      <th>weight</th>\n",
       "      <th>acceleration</th>\n",
       "      <th>year</th>\n",
       "      <th>origin</th>\n",
       "      <th>name</th>\n",
       "    </tr>\n",
       "  </thead>\n",
       "  <tbody>\n",
       "    <tr>\n",
       "      <th>0</th>\n",
       "      <td>18.0</td>\n",
       "      <td>8</td>\n",
       "      <td>307.0</td>\n",
       "      <td>130</td>\n",
       "      <td>3504</td>\n",
       "      <td>12.0</td>\n",
       "      <td>70</td>\n",
       "      <td>1</td>\n",
       "      <td>chevrolet chevelle malibu</td>\n",
       "    </tr>\n",
       "    <tr>\n",
       "      <th>1</th>\n",
       "      <td>15.0</td>\n",
       "      <td>8</td>\n",
       "      <td>350.0</td>\n",
       "      <td>165</td>\n",
       "      <td>3693</td>\n",
       "      <td>11.5</td>\n",
       "      <td>70</td>\n",
       "      <td>1</td>\n",
       "      <td>buick skylark 320</td>\n",
       "    </tr>\n",
       "    <tr>\n",
       "      <th>2</th>\n",
       "      <td>18.0</td>\n",
       "      <td>8</td>\n",
       "      <td>318.0</td>\n",
       "      <td>150</td>\n",
       "      <td>3436</td>\n",
       "      <td>11.0</td>\n",
       "      <td>70</td>\n",
       "      <td>1</td>\n",
       "      <td>plymouth satellite</td>\n",
       "    </tr>\n",
       "    <tr>\n",
       "      <th>3</th>\n",
       "      <td>16.0</td>\n",
       "      <td>8</td>\n",
       "      <td>304.0</td>\n",
       "      <td>150</td>\n",
       "      <td>3433</td>\n",
       "      <td>12.0</td>\n",
       "      <td>70</td>\n",
       "      <td>1</td>\n",
       "      <td>amc rebel sst</td>\n",
       "    </tr>\n",
       "    <tr>\n",
       "      <th>4</th>\n",
       "      <td>17.0</td>\n",
       "      <td>8</td>\n",
       "      <td>302.0</td>\n",
       "      <td>140</td>\n",
       "      <td>3449</td>\n",
       "      <td>10.5</td>\n",
       "      <td>70</td>\n",
       "      <td>1</td>\n",
       "      <td>ford torino</td>\n",
       "    </tr>\n",
       "  </tbody>\n",
       "</table>\n",
       "</div>"
      ],
      "text/plain": [
       "    mpg  cylinders  displacement horsepower  weight  acceleration  year  \\\n",
       "0  18.0          8         307.0        130    3504          12.0    70   \n",
       "1  15.0          8         350.0        165    3693          11.5    70   \n",
       "2  18.0          8         318.0        150    3436          11.0    70   \n",
       "3  16.0          8         304.0        150    3433          12.0    70   \n",
       "4  17.0          8         302.0        140    3449          10.5    70   \n",
       "\n",
       "   origin                       name  \n",
       "0       1  chevrolet chevelle malibu  \n",
       "1       1          buick skylark 320  \n",
       "2       1         plymouth satellite  \n",
       "3       1              amc rebel sst  \n",
       "4       1                ford torino  "
      ]
     },
     "execution_count": 4,
     "metadata": {},
     "output_type": "execute_result"
    }
   ],
   "source": [
    "df.head()"
   ]
  },
  {
   "cell_type": "code",
   "execution_count": 5,
   "metadata": {},
   "outputs": [
    {
     "data": {
      "image/png": "[encoded data removed]",
      "text/plain": [
       "<Figure size 432x288 with 1 Axes>"
      ]
     },
     "metadata": {
      "needs_background": "light"
     },
     "output_type": "display_data"
    },
    {
     "data": {
      "image/png": "[encoded data removed]",
      "text/plain": [
       "<Figure size 432x288 with 1 Axes>"
      ]
     },
     "metadata": {
      "needs_background": "light"
     },
     "output_type": "display_data"
    }
   ],
   "source": [
    "# use box-plot for categorical data \n",
    "# if results in categories are substantially difrent that feature might be important\n",
    "_ = df.plot(x=\"year\", y=\"mpg\", style='o')\n",
    "_ = df.boxplot(column=\"mpg\", by=\"year\") "
   ]
  },
  {
   "cell_type": "code",
   "execution_count": 6,
   "metadata": {},
   "outputs": [
    {
     "data": {
      "text/plain": [
       "Intercept    float64\n",
       "year         float64\n",
       "dtype: object"
      ]
     },
     "execution_count": 6,
     "metadata": {},
     "output_type": "execute_result"
    }
   ],
   "source": [
    "# dmatrices function splits and encodes data\n",
    "# ''-1'' to have a model without the intercept\n",
    "#models = [\n",
    "#    'mpg ~ origin',\n",
    "#    'mpg ~ C(origin)'\n",
    "#    'mpg ~ C(origin) - 1',\n",
    "#]\n",
    "y, X = dmatrices('mpg ~ year', data=df, return_type='dataframe') \n",
    "model = sm.OLS(y, X) # Ordinary Least Squares \n",
    "result = model.fit()\n",
    "X.dtypes"
   ]
  },
  {
   "cell_type": "code",
   "execution_count": 7,
   "metadata": {},
   "outputs": [
    {
     "data": {
      "text/plain": [
       "Intercept   -70.200128\n",
       "year          1.233187\n",
       "dtype: float64"
      ]
     },
     "execution_count": 7,
     "metadata": {},
     "output_type": "execute_result"
    }
   ],
   "source": [
    "result.params"
   ]
  },
  {
   "cell_type": "code",
   "execution_count": 8,
   "metadata": {},
   "outputs": [
    {
     "data": {
      "text/plain": [
       "Intercept   -70.200128\n",
       "year          1.233187\n",
       "dtype: float64"
      ]
     },
     "execution_count": 8,
     "metadata": {},
     "output_type": "execute_result"
    },
    {
     "data": {
      "image/png": "[encoded data removed]",
      "text/plain": [
       "<Figure size 432x288 with 1 Axes>"
      ]
     },
     "metadata": {
      "needs_background": "light"
     },
     "output_type": "display_data"
    }
   ],
   "source": [
    "# we might treat categorical data as numerical but if would have diffrent meaning\n",
    "\n",
    "# scatter-plot data\n",
    "ax = df.plot(x='year', y='mpg', kind='scatter')\n",
    "\n",
    "# plot regression line on the same axes\n",
    "p = result.params\n",
    "x = np.arange(70, 83, 1)\n",
    "ax = ax.plot(x, p.Intercept + p.year  * x, 'r' )\n",
    "\n",
    "p"
   ]
  },
  {
   "cell_type": "code",
   "execution_count": 9,
   "metadata": {},
   "outputs": [
    {
     "data": {
      "text/html": [
       "<table class=\"simpletable\">\n",
       "<caption>OLS Regression Results</caption>\n",
       "<tr>\n",
       "  <th>Dep. Variable:</th>           <td>mpg</td>       <th>  R-squared:         </th> <td>   0.338</td>\n",
       "</tr>\n",
       "<tr>\n",
       "  <th>Model:</th>                   <td>OLS</td>       <th>  Adj. R-squared:    </th> <td>   0.336</td>\n",
       "</tr>\n",
       "<tr>\n",
       "  <th>Method:</th>             <td>Least Squares</td>  <th>  F-statistic:       </th> <td>   201.8</td>\n",
       "</tr>\n",
       "<tr>\n",
       "  <th>Date:</th>             <td>Sat, 12 Dec 2020</td> <th>  Prob (F-statistic):</th> <td>2.77e-37</td>\n",
       "</tr>\n",
       "<tr>\n",
       "  <th>Time:</th>                 <td>13:49:04</td>     <th>  Log-Likelihood:    </th> <td> -1297.7</td>\n",
       "</tr>\n",
       "<tr>\n",
       "  <th>No. Observations:</th>      <td>   397</td>      <th>  AIC:               </th> <td>   2599.</td>\n",
       "</tr>\n",
       "<tr>\n",
       "  <th>Df Residuals:</th>          <td>   395</td>      <th>  BIC:               </th> <td>   2607.</td>\n",
       "</tr>\n",
       "<tr>\n",
       "  <th>Df Model:</th>              <td>     1</td>      <th>                     </th>     <td> </td>   \n",
       "</tr>\n",
       "<tr>\n",
       "  <th>Covariance Type:</th>      <td>nonrobust</td>    <th>                     </th>     <td> </td>   \n",
       "</tr>\n",
       "</table>\n",
       "<table class=\"simpletable\">\n",
       "<tr>\n",
       "      <td></td>         <th>coef</th>     <th>std err</th>      <th>t</th>      <th>P>|t|</th>  <th>[0.025</th>    <th>0.975]</th>  \n",
       "</tr>\n",
       "<tr>\n",
       "  <th>Intercept</th> <td>  -70.2001</td> <td>    6.605</td> <td>  -10.628</td> <td> 0.000</td> <td>  -83.186</td> <td>  -57.214</td>\n",
       "</tr>\n",
       "<tr>\n",
       "  <th>year</th>      <td>    1.2332</td> <td>    0.087</td> <td>   14.205</td> <td> 0.000</td> <td>    1.063</td> <td>    1.404</td>\n",
       "</tr>\n",
       "</table>\n",
       "<table class=\"simpletable\">\n",
       "<tr>\n",
       "  <th>Omnibus:</th>       <td>22.297</td> <th>  Durbin-Watson:     </th> <td>   0.772</td>\n",
       "</tr>\n",
       "<tr>\n",
       "  <th>Prob(Omnibus):</th> <td> 0.000</td> <th>  Jarque-Bera (JB):  </th> <td>  15.960</td>\n",
       "</tr>\n",
       "<tr>\n",
       "  <th>Skew:</th>          <td> 0.379</td> <th>  Prob(JB):          </th> <td>0.000342</td>\n",
       "</tr>\n",
       "<tr>\n",
       "  <th>Kurtosis:</th>      <td> 2.376</td> <th>  Cond. No.          </th> <td>1.57e+03</td>\n",
       "</tr>\n",
       "</table><br/><br/>Warnings:<br/>[1] Standard Errors assume that the covariance matrix of the errors is correctly specified.<br/>[2] The condition number is large, 1.57e+03. This might indicate that there are<br/>strong multicollinearity or other numerical problems."
      ],
      "text/plain": [
       "<class 'statsmodels.iolib.summary.Summary'>\n",
       "\"\"\"\n",
       "                            OLS Regression Results                            \n",
       "==============================================================================\n",
       "Dep. Variable:                    mpg   R-squared:                       0.338\n",
       "Model:                            OLS   Adj. R-squared:                  0.336\n",
       "Method:                 Least Squares   F-statistic:                     201.8\n",
       "Date:                Sat, 12 Dec 2020   Prob (F-statistic):           2.77e-37\n",
       "Time:                        13:49:04   Log-Likelihood:                -1297.7\n",
       "No. Observations:                 397   AIC:                             2599.\n",
       "Df Residuals:                     395   BIC:                             2607.\n",
       "Df Model:                           1                                         \n",
       "Covariance Type:            nonrobust                                         \n",
       "==============================================================================\n",
       "                 coef    std err          t      P>|t|      [0.025      0.975]\n",
       "------------------------------------------------------------------------------\n",
       "Intercept    -70.2001      6.605    -10.628      0.000     -83.186     -57.214\n",
       "year           1.2332      0.087     14.205      0.000       1.063       1.404\n",
       "==============================================================================\n",
       "Omnibus:                       22.297   Durbin-Watson:                   0.772\n",
       "Prob(Omnibus):                  0.000   Jarque-Bera (JB):               15.960\n",
       "Skew:                           0.379   Prob(JB):                     0.000342\n",
       "Kurtosis:                       2.376   Cond. No.                     1.57e+03\n",
       "==============================================================================\n",
       "\n",
       "Warnings:\n",
       "[1] Standard Errors assume that the covariance matrix of the errors is correctly specified.\n",
       "[2] The condition number is large, 1.57e+03. This might indicate that there are\n",
       "strong multicollinearity or other numerical problems.\n",
       "\"\"\""
      ]
     },
     "execution_count": 9,
     "metadata": {},
     "output_type": "execute_result"
    }
   ],
   "source": [
    "result.summary()"
   ]
  },
  {
   "cell_type": "code",
   "execution_count": 10,
   "metadata": {},
   "outputs": [
    {
     "data": {
      "text/plain": [
       "mpg              float64\n",
       "cylinders          int64\n",
       "displacement     float64\n",
       "horsepower        object\n",
       "weight             int64\n",
       "acceleration     float64\n",
       "year            category\n",
       "origin             int64\n",
       "name              object\n",
       "dtype: object"
      ]
     },
     "execution_count": 10,
     "metadata": {},
     "output_type": "execute_result"
    }
   ],
   "source": [
    "# indicate which columns should be treated as categorical\n",
    "df_cat = df.astype({'year': 'category'})\n",
    "df_cat.dtypes"
   ]
  },
  {
   "cell_type": "code",
   "execution_count": 11,
   "metadata": {},
   "outputs": [
    {
     "data": {
      "text/html": [
       "<div>\n",
       "<style scoped>\n",
       "    .dataframe tbody tr th:only-of-type {\n",
       "        vertical-align: middle;\n",
       "    }\n",
       "\n",
       "    .dataframe tbody tr th {\n",
       "        vertical-align: top;\n",
       "    }\n",
       "\n",
       "    .dataframe thead th {\n",
       "        text-align: right;\n",
       "    }\n",
       "</style>\n",
       "<table border=\"1\" class=\"dataframe\">\n",
       "  <thead>\n",
       "    <tr style=\"text-align: right;\">\n",
       "      <th></th>\n",
       "      <th>Intercept</th>\n",
       "      <th>year[T.71]</th>\n",
       "      <th>year[T.72]</th>\n",
       "      <th>year[T.73]</th>\n",
       "      <th>year[T.74]</th>\n",
       "      <th>year[T.75]</th>\n",
       "      <th>year[T.76]</th>\n",
       "      <th>year[T.77]</th>\n",
       "      <th>year[T.78]</th>\n",
       "      <th>year[T.79]</th>\n",
       "      <th>year[T.80]</th>\n",
       "      <th>year[T.81]</th>\n",
       "      <th>year[T.82]</th>\n",
       "    </tr>\n",
       "  </thead>\n",
       "  <tbody>\n",
       "    <tr>\n",
       "      <th>0</th>\n",
       "      <td>1.0</td>\n",
       "      <td>0.0</td>\n",
       "      <td>0.0</td>\n",
       "      <td>0.0</td>\n",
       "      <td>0.0</td>\n",
       "      <td>0.0</td>\n",
       "      <td>0.0</td>\n",
       "      <td>0.0</td>\n",
       "      <td>0.0</td>\n",
       "      <td>0.0</td>\n",
       "      <td>0.0</td>\n",
       "      <td>0.0</td>\n",
       "      <td>0.0</td>\n",
       "    </tr>\n",
       "    <tr>\n",
       "      <th>1</th>\n",
       "      <td>1.0</td>\n",
       "      <td>0.0</td>\n",
       "      <td>0.0</td>\n",
       "      <td>0.0</td>\n",
       "      <td>0.0</td>\n",
       "      <td>0.0</td>\n",
       "      <td>0.0</td>\n",
       "      <td>0.0</td>\n",
       "      <td>0.0</td>\n",
       "      <td>0.0</td>\n",
       "      <td>0.0</td>\n",
       "      <td>0.0</td>\n",
       "      <td>0.0</td>\n",
       "    </tr>\n",
       "    <tr>\n",
       "      <th>2</th>\n",
       "      <td>1.0</td>\n",
       "      <td>0.0</td>\n",
       "      <td>0.0</td>\n",
       "      <td>0.0</td>\n",
       "      <td>0.0</td>\n",
       "      <td>0.0</td>\n",
       "      <td>0.0</td>\n",
       "      <td>0.0</td>\n",
       "      <td>0.0</td>\n",
       "      <td>0.0</td>\n",
       "      <td>0.0</td>\n",
       "      <td>0.0</td>\n",
       "      <td>0.0</td>\n",
       "    </tr>\n",
       "    <tr>\n",
       "      <th>3</th>\n",
       "      <td>1.0</td>\n",
       "      <td>0.0</td>\n",
       "      <td>0.0</td>\n",
       "      <td>0.0</td>\n",
       "      <td>0.0</td>\n",
       "      <td>0.0</td>\n",
       "      <td>0.0</td>\n",
       "      <td>0.0</td>\n",
       "      <td>0.0</td>\n",
       "      <td>0.0</td>\n",
       "      <td>0.0</td>\n",
       "      <td>0.0</td>\n",
       "      <td>0.0</td>\n",
       "    </tr>\n",
       "    <tr>\n",
       "      <th>4</th>\n",
       "      <td>1.0</td>\n",
       "      <td>0.0</td>\n",
       "      <td>0.0</td>\n",
       "      <td>0.0</td>\n",
       "      <td>0.0</td>\n",
       "      <td>0.0</td>\n",
       "      <td>0.0</td>\n",
       "      <td>0.0</td>\n",
       "      <td>0.0</td>\n",
       "      <td>0.0</td>\n",
       "      <td>0.0</td>\n",
       "      <td>0.0</td>\n",
       "      <td>0.0</td>\n",
       "    </tr>\n",
       "  </tbody>\n",
       "</table>\n",
       "</div>"
      ],
      "text/plain": [
       "   Intercept  year[T.71]  year[T.72]  year[T.73]  year[T.74]  year[T.75]  \\\n",
       "0        1.0         0.0         0.0         0.0         0.0         0.0   \n",
       "1        1.0         0.0         0.0         0.0         0.0         0.0   \n",
       "2        1.0         0.0         0.0         0.0         0.0         0.0   \n",
       "3        1.0         0.0         0.0         0.0         0.0         0.0   \n",
       "4        1.0         0.0         0.0         0.0         0.0         0.0   \n",
       "\n",
       "   year[T.76]  year[T.77]  year[T.78]  year[T.79]  year[T.80]  year[T.81]  \\\n",
       "0         0.0         0.0         0.0         0.0         0.0         0.0   \n",
       "1         0.0         0.0         0.0         0.0         0.0         0.0   \n",
       "2         0.0         0.0         0.0         0.0         0.0         0.0   \n",
       "3         0.0         0.0         0.0         0.0         0.0         0.0   \n",
       "4         0.0         0.0         0.0         0.0         0.0         0.0   \n",
       "\n",
       "   year[T.82]  \n",
       "0         0.0  \n",
       "1         0.0  \n",
       "2         0.0  \n",
       "3         0.0  \n",
       "4         0.0  "
      ]
     },
     "execution_count": 11,
     "metadata": {},
     "output_type": "execute_result"
    }
   ],
   "source": [
    "# dmatrices encodes categorical data in 'one-hot' style\n",
    "# diffrent type of encodings -> see e.g. http://pbpython.com/categorical-encoding.html\n",
    "y, X = dmatrices('mpg ~ year', data=df_cat, return_type='dataframe') \n",
    "X.dtypes\n",
    "X.head()\n",
    "\n",
    "# you might also use function 'C()' for indicating categorical variabel\n",
    "# y, X = dmatrices('mpg ~ C(cylinders) -1 ', data=df, return_type='dataframe') "
   ]
  },
  {
   "cell_type": "code",
   "execution_count": 12,
   "metadata": {},
   "outputs": [
    {
     "data": {
      "text/plain": [
       "Intercept     17.689655\n",
       "year[T.71]     3.560345\n",
       "year[T.72]     1.024631\n",
       "year[T.73]    -0.589655\n",
       "year[T.74]     5.014049\n",
       "year[T.75]     2.577011\n",
       "year[T.76]     3.883874\n",
       "year[T.77]     5.685345\n",
       "year[T.78]     6.371456\n",
       "year[T.79]     7.403448\n",
       "year[T.80]    16.006897\n",
       "year[T.81]    12.644828\n",
       "year[T.82]    14.310345\n",
       "dtype: float64"
      ]
     },
     "execution_count": 12,
     "metadata": {},
     "output_type": "execute_result"
    }
   ],
   "source": [
    "model = sm.OLS(y, X) \n",
    "result = model.fit() \n",
    "p = result.params\n",
    "p"
   ]
  },
  {
   "cell_type": "code",
   "execution_count": 20,
   "metadata": {},
   "outputs": [
    {
     "name": "stdout",
     "output_type": "stream",
     "text": [
      "('Intercept', 17.68965517241378)\n",
      "('year[T.71]', 3.5603448275861926)\n",
      "('year[T.72]', 1.0246305418719275)\n",
      "('year[T.73]', -0.589655172413783)\n",
      "('year[T.74]', 5.014048531289923)\n",
      "('year[T.75]', 2.577011494252874)\n",
      "('year[T.76]', 3.883874239350898)\n",
      "('year[T.77]', 5.6853448275862055)\n",
      "('year[T.78]', 6.371455938697328)\n",
      "('year[T.79]', 7.403448275862074)\n",
      "('year[T.80]', 16.006896551724136)\n",
      "('year[T.81]', 12.644827586206892)\n",
      "('year[T.82]', 14.310344827586214)\n"
     ]
    },
    {
     "data": {
      "image/png": "[encoded data removed]",
      "text/plain": [
       "<Figure size 432x288 with 1 Axes>"
      ]
     },
     "metadata": {
      "needs_background": "light"
     },
     "output_type": "display_data"
    }
   ],
   "source": [
    "# we might treat categorical data as numerical but if would have diffrent meaning\n",
    "# scatter-plot data\n",
    "ax = df.plot(x='year', y='mpg', kind='scatter')\n",
    "\n",
    "# plot regression line on the same axes\n",
    "p = result.params\n",
    "x = np.arange(71, 83, 1)\n",
    "ax = ax.plot(x, [p.Intercept + p['year[T.{}]'.format(i)] for i in x], 'r' )\n",
    "\n",
    "for y in p.items():\n",
    "    print(y)\n",
    "\n"
   ]
  },
  {
   "cell_type": "code",
   "execution_count": 14,
   "metadata": {},
   "outputs": [
    {
     "data": {
      "text/html": [
       "<table class=\"simpletable\">\n",
       "<caption>OLS Regression Results</caption>\n",
       "<tr>\n",
       "  <th>Dep. Variable:</th>           <td>mpg</td>       <th>  R-squared:         </th> <td>   0.432</td>\n",
       "</tr>\n",
       "<tr>\n",
       "  <th>Model:</th>                   <td>OLS</td>       <th>  Adj. R-squared:    </th> <td>   0.414</td>\n",
       "</tr>\n",
       "<tr>\n",
       "  <th>Method:</th>             <td>Least Squares</td>  <th>  F-statistic:       </th> <td>   24.35</td>\n",
       "</tr>\n",
       "<tr>\n",
       "  <th>Date:</th>             <td>Sat, 12 Dec 2020</td> <th>  Prob (F-statistic):</th> <td>2.41e-40</td>\n",
       "</tr>\n",
       "<tr>\n",
       "  <th>Time:</th>                 <td>13:49:04</td>     <th>  Log-Likelihood:    </th> <td> -1267.3</td>\n",
       "</tr>\n",
       "<tr>\n",
       "  <th>No. Observations:</th>      <td>   397</td>      <th>  AIC:               </th> <td>   2561.</td>\n",
       "</tr>\n",
       "<tr>\n",
       "  <th>Df Residuals:</th>          <td>   384</td>      <th>  BIC:               </th> <td>   2612.</td>\n",
       "</tr>\n",
       "<tr>\n",
       "  <th>Df Model:</th>              <td>    12</td>      <th>                     </th>     <td> </td>   \n",
       "</tr>\n",
       "<tr>\n",
       "  <th>Covariance Type:</th>      <td>nonrobust</td>    <th>                     </th>     <td> </td>   \n",
       "</tr>\n",
       "</table>\n",
       "<table class=\"simpletable\">\n",
       "<tr>\n",
       "       <td></td>         <th>coef</th>     <th>std err</th>      <th>t</th>      <th>P>|t|</th>  <th>[0.025</th>    <th>0.975]</th>  \n",
       "</tr>\n",
       "<tr>\n",
       "  <th>Intercept</th>  <td>   17.6897</td> <td>    1.112</td> <td>   15.907</td> <td> 0.000</td> <td>   15.503</td> <td>   19.876</td>\n",
       "</tr>\n",
       "<tr>\n",
       "  <th>year[T.71]</th> <td>    3.5603</td> <td>    1.587</td> <td>    2.244</td> <td> 0.025</td> <td>    0.441</td> <td>    6.680</td>\n",
       "</tr>\n",
       "<tr>\n",
       "  <th>year[T.72]</th> <td>    1.0246</td> <td>    1.587</td> <td>    0.646</td> <td> 0.519</td> <td>   -2.095</td> <td>    4.144</td>\n",
       "</tr>\n",
       "<tr>\n",
       "  <th>year[T.73]</th> <td>   -0.5897</td> <td>    1.461</td> <td>   -0.404</td> <td> 0.687</td> <td>   -3.461</td> <td>    2.282</td>\n",
       "</tr>\n",
       "<tr>\n",
       "  <th>year[T.74]</th> <td>    5.0140</td> <td>    1.602</td> <td>    3.131</td> <td> 0.002</td> <td>    1.865</td> <td>    8.163</td>\n",
       "</tr>\n",
       "<tr>\n",
       "  <th>year[T.75]</th> <td>    2.5770</td> <td>    1.560</td> <td>    1.652</td> <td> 0.099</td> <td>   -0.489</td> <td>    5.643</td>\n",
       "</tr>\n",
       "<tr>\n",
       "  <th>year[T.76]</th> <td>    3.8839</td> <td>    1.514</td> <td>    2.566</td> <td> 0.011</td> <td>    0.907</td> <td>    6.860</td>\n",
       "</tr>\n",
       "<tr>\n",
       "  <th>year[T.77]</th> <td>    5.6853</td> <td>    1.587</td> <td>    3.583</td> <td> 0.000</td> <td>    2.566</td> <td>    8.805</td>\n",
       "</tr>\n",
       "<tr>\n",
       "  <th>year[T.78]</th> <td>    6.3715</td> <td>    1.494</td> <td>    4.264</td> <td> 0.000</td> <td>    3.433</td> <td>    9.310</td>\n",
       "</tr>\n",
       "<tr>\n",
       "  <th>year[T.79]</th> <td>    7.4034</td> <td>    1.573</td> <td>    4.707</td> <td> 0.000</td> <td>    4.311</td> <td>   10.496</td>\n",
       "</tr>\n",
       "<tr>\n",
       "  <th>year[T.80]</th> <td>   16.0069</td> <td>    1.573</td> <td>   10.178</td> <td> 0.000</td> <td>   12.915</td> <td>   19.099</td>\n",
       "</tr>\n",
       "<tr>\n",
       "  <th>year[T.81]</th> <td>   12.6448</td> <td>    1.573</td> <td>    8.040</td> <td> 0.000</td> <td>    9.553</td> <td>   15.737</td>\n",
       "</tr>\n",
       "<tr>\n",
       "  <th>year[T.82]</th> <td>   14.3103</td> <td>    1.560</td> <td>    9.176</td> <td> 0.000</td> <td>   11.244</td> <td>   17.377</td>\n",
       "</tr>\n",
       "</table>\n",
       "<table class=\"simpletable\">\n",
       "<tr>\n",
       "  <th>Omnibus:</th>       <td>21.680</td> <th>  Durbin-Watson:     </th> <td>   0.871</td>\n",
       "</tr>\n",
       "<tr>\n",
       "  <th>Prob(Omnibus):</th> <td> 0.000</td> <th>  Jarque-Bera (JB):  </th> <td>  13.927</td>\n",
       "</tr>\n",
       "<tr>\n",
       "  <th>Skew:</th>          <td> 0.324</td> <th>  Prob(JB):          </th> <td>0.000946</td>\n",
       "</tr>\n",
       "<tr>\n",
       "  <th>Kurtosis:</th>      <td> 2.350</td> <th>  Cond. No.          </th> <td>    14.3</td>\n",
       "</tr>\n",
       "</table><br/><br/>Warnings:<br/>[1] Standard Errors assume that the covariance matrix of the errors is correctly specified."
      ],
      "text/plain": [
       "<class 'statsmodels.iolib.summary.Summary'>\n",
       "\"\"\"\n",
       "                            OLS Regression Results                            \n",
       "==============================================================================\n",
       "Dep. Variable:                    mpg   R-squared:                       0.432\n",
       "Model:                            OLS   Adj. R-squared:                  0.414\n",
       "Method:                 Least Squares   F-statistic:                     24.35\n",
       "Date:                Sat, 12 Dec 2020   Prob (F-statistic):           2.41e-40\n",
       "Time:                        13:49:04   Log-Likelihood:                -1267.3\n",
       "No. Observations:                 397   AIC:                             2561.\n",
       "Df Residuals:                     384   BIC:                             2612.\n",
       "Df Model:                          12                                         \n",
       "Covariance Type:            nonrobust                                         \n",
       "==============================================================================\n",
       "                 coef    std err          t      P>|t|      [0.025      0.975]\n",
       "------------------------------------------------------------------------------\n",
       "Intercept     17.6897      1.112     15.907      0.000      15.503      19.876\n",
       "year[T.71]     3.5603      1.587      2.244      0.025       0.441       6.680\n",
       "year[T.72]     1.0246      1.587      0.646      0.519      -2.095       4.144\n",
       "year[T.73]    -0.5897      1.461     -0.404      0.687      -3.461       2.282\n",
       "year[T.74]     5.0140      1.602      3.131      0.002       1.865       8.163\n",
       "year[T.75]     2.5770      1.560      1.652      0.099      -0.489       5.643\n",
       "year[T.76]     3.8839      1.514      2.566      0.011       0.907       6.860\n",
       "year[T.77]     5.6853      1.587      3.583      0.000       2.566       8.805\n",
       "year[T.78]     6.3715      1.494      4.264      0.000       3.433       9.310\n",
       "year[T.79]     7.4034      1.573      4.707      0.000       4.311      10.496\n",
       "year[T.80]    16.0069      1.573     10.178      0.000      12.915      19.099\n",
       "year[T.81]    12.6448      1.573      8.040      0.000       9.553      15.737\n",
       "year[T.82]    14.3103      1.560      9.176      0.000      11.244      17.377\n",
       "==============================================================================\n",
       "Omnibus:                       21.680   Durbin-Watson:                   0.871\n",
       "Prob(Omnibus):                  0.000   Jarque-Bera (JB):               13.927\n",
       "Skew:                           0.324   Prob(JB):                     0.000946\n",
       "Kurtosis:                       2.350   Cond. No.                         14.3\n",
       "==============================================================================\n",
       "\n",
       "Warnings:\n",
       "[1] Standard Errors assume that the covariance matrix of the errors is correctly specified.\n",
       "\"\"\""
      ]
     },
     "execution_count": 14,
     "metadata": {},
     "output_type": "execute_result"
    }
   ],
   "source": [
    "result.summary()"
   ]
  },
  {
   "cell_type": "markdown",
   "metadata": {},
   "source": [
    "### Który model lepszy?\n",
    "Ten który traktuje rok jako wartość kategorii\n",
    "\n",
    "### Co gdyby było więcej wartości dla `year`?\n",
    "* Ciągły - nic.\n",
    "* Kategorie - więcej parametrów do uczenia.\n",
    "\n",
    "### Który model prostszy do uczenia?\n",
    "Ten z danymi ciągłymi - ma mniej parametrów do uczenia."
   ]
  },
  {
   "cell_type": "code",
   "execution_count": null,
   "metadata": {},
   "outputs": [],
   "source": []
  }
 ],
 "metadata": {
  "kernelspec": {
   "display_name": "Python 3",
   "language": "python",
   "name": "python3"
  },
  "language_info": {
   "codemirror_mode": {
    "name": "ipython",
    "version": 3
   },
   "file_extension": ".py",
   "mimetype": "text/x-python",
   "name": "python",
   "nbconvert_exporter": "python",
   "pygments_lexer": "ipython3",
   "version": "3.8.3"
  }
 },
 "nbformat": 4,
 "nbformat_minor": 4
}
