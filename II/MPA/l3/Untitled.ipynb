{
 "cells": [
  {
   "cell_type": "code",
   "execution_count": 3,
   "metadata": {},
   "outputs": [],
   "source": [
    "import numpy as np\n",
    "import matplotlib.pyplot as plt\n",
    "import matplotlib.tri\n",
    "import matplotlib.collections"
   ]
  },
  {
   "cell_type": "code",
   "execution_count": 4,
   "metadata": {},
   "outputs": [
    {
     "name": "stdout",
     "output_type": "stream",
     "text": [
      "seeds:\n",
      " [[17.13126051 24.44715086]\n",
      " [59.97150381 64.39919996]\n",
      " [92.58512891 14.38061868]\n",
      " [34.02255079 36.46437825]\n",
      " [73.78590796 98.01206078]\n",
      " [60.15607368 29.99412952]\n",
      " [71.55785349 86.92862887]\n",
      " [42.91965379 30.67496642]\n",
      " [59.01624341 82.70252375]\n",
      " [23.9060448  22.05521145]\n",
      " [86.11048292  9.09217183]\n",
      " [93.80822276 33.6042278 ]\n",
      " [77.67816664 18.08417211]\n",
      " [ 6.33782741 17.55560609]\n",
      " [66.83930717 33.97369974]\n",
      " [58.85937516 30.0371319 ]\n",
      " [49.97210259 34.06508465]\n",
      " [75.58941959 47.91833465]\n",
      " [79.74214849 31.97096019]\n",
      " [97.93216353 60.39081648]\n",
      " [38.55964524 48.31963696]\n",
      " [48.3898994  14.00339529]\n",
      " [72.69884249 90.36437589]\n",
      " [86.24378323 43.49558307]]\n",
      "BBox Min: [6.33782741 9.09217183] Bbox Max:  [97.93216353 98.01206078]\n"
     ]
    }
   ],
   "source": [
    "numSeeds = 24\n",
    "radius = 100\n",
    "seeds = radius * np.random.random((numSeeds, 2))\n",
    "print(\"seeds:\\n\", seeds)\n",
    "print(\"BBox Min:\", np.amin(seeds, axis=0),\"Bbox Max: \", np.amax(seeds, axis=0))"
   ]
  },
  {
   "cell_type": "code",
   "execution_count": 5,
   "metadata": {},
   "outputs": [
    {
     "name": "stdout",
     "output_type": "stream",
     "text": [
      "Center: [61.40890032 41.78891938]\n"
     ]
    }
   ],
   "source": [
    "center = np.mean(seeds, axis=0)\n",
    "print(\"Center:\", center)\n",
    "center = np.asarray(center)\n",
    "# Create coordinates for the corners of the frame\n",
    "coords = [center+radius*np.array((-1, -1)),center+radius*np.array((+1, -1)),center+radius*np.array((+1, +1)),center+radius*np.array((-1, +1))]"
   ]
  },
  {
   "cell_type": "code",
   "execution_count": 7,
   "metadata": {},
   "outputs": [],
   "source": [
    "def circumcenter( tri):\n",
    "    \"\"\"Compute circumcenter and circumradius of a triangle in 2D.\n",
    "    Uses an extension of the method described here:\n",
    "    http://www.ics.uci.edu/~eppstein/junkyard/circumcenter.html\n",
    "    \"\"\"\n",
    "    pts = np.asarray([coords[v] for v in tri])\n",
    "    pts2 = np.dot(pts, pts.T)\n",
    "    A = np.bmat([[2 * pts2, [[1],[1],[1]]],[[[1, 1, 1, 0]]]])\n",
    "    b = np.hstack((np.sum(pts * pts, axis=1), [1]))\n",
    "    x = np.linalg.solve(A, b)\n",
    "    bary_coords = x[:-1]\n",
    "    center = np.dot(bary_coords, pts)\n",
    "    # radius = np.linalg.norm(pts[0] - center) # euclidean distance\n",
    "    radius = np.sum(np.square(pts[0] - center))  # squared distance\n",
    "    return (center, radius)"
   ]
  },
  {
   "cell_type": "code",
   "execution_count": 8,
   "metadata": {},
   "outputs": [],
   "source": [
    "# Create two dicts to store triangle neighbours and circumcircles.\n",
    "triangles = {}\n",
    "circles = {}\n",
    "# Create two CCW triangles for the frame\n",
    "T1 = (0, 1, 3)\n",
    "T2 = (2, 3, 1)\n",
    "triangles[T1] = [T2, None, None]\n",
    "triangles[T2] = [T1, None, None]"
   ]
  },
  {
   "cell_type": "code",
   "execution_count": 9,
   "metadata": {},
   "outputs": [],
   "source": [
    "def inCircleFast( tri, p):\n",
    "    \"\"\"Check if point p is inside of precomputed circumcircle of tri.\n",
    "    \"\"\"\n",
    "    center, radius = circles[tri]\n",
    "    return np.sum(np.square(center - p)) <= radius"
   ]
  },
  {
   "cell_type": "code",
   "execution_count": 10,
   "metadata": {},
   "outputs": [],
   "source": [
    "# Compute circumcenters and circumradius for each triangle\n",
    "for t in triangles:\n",
    "    circles[t] = circumcenter(t)"
   ]
  },
  {
   "cell_type": "code",
   "execution_count": null,
   "metadata": {},
   "outputs": [],
   "source": []
  }
 ],
 "metadata": {
  "kernelspec": {
   "display_name": "Python 3",
   "language": "python",
   "name": "python3"
  },
  "language_info": {
   "codemirror_mode": {
    "name": "ipython",
    "version": 3
   },
   "file_extension": ".py",
   "mimetype": "text/x-python",
   "name": "python",
   "nbconvert_exporter": "python",
   "pygments_lexer": "ipython3",
   "version": "3.8.3"
  }
 },
 "nbformat": 4,
 "nbformat_minor": 4
}
